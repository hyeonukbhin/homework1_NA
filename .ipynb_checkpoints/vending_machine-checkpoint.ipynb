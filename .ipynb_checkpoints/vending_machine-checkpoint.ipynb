{
 "cells": [
  {
   "cell_type": "code",
   "execution_count": null,
   "metadata": {},
   "outputs": [],
   "source": [
    "import numpy as np\n",
    "import random\n",
    "\n",
    "def main():\n",
    "    while(True):\n",
    "        input_user = input(\"Rock or Paper or Scissor?: \")\n",
    "        correct_set = [\"Rock\", \"Paper\", \"Scissor\"]\n",
    "#         print(input_user)\n",
    "        if input_user in correct_set:\n",
    "            result = function(input_user)\n",
    "            print(result)\n",
    "        else:\n",
    "            print(\"not correct\")\n",
    "\n",
    "def function(input_user):\n",
    "    if input_user == \"Rock\":\n",
    "        input_param = 0\n",
    "    elif input_user == \"Paper\":\n",
    "        input_param = 1\n",
    "    elif input_user == \"Scissor\":\n",
    "        input_param = 2\n",
    "\n",
    "#     input_com = np.random(3)\n",
    "    com_param = random.randrange(0,2)\n",
    "    if com_param == 0:\n",
    "        com = \"Rock\"\n",
    "    elif com_param == 1:\n",
    "        com = \"Paper\"\n",
    "    elif com_param == 2:\n",
    "        com = \"Scissor\"\n",
    "        \n",
    "    # print \" Topic Published : \\x1b[1;33m[/perceptionResult]\\x1b[1;m\"\n",
    "    # print \" \\x1b[1;34mHY_Dialog_manager -> KIST_data_collector -> UoS_DMServer\\x1b[1;m\"\n",
    "        \n",
    "    print(\"User     : \\x1b[1;32m{}\\x1b[1;m\".format(input_user))    \n",
    "    print(\"Computer : \\x1b[1;33m{}\\x1b[1;m\".format(com))\n",
    "    cal = input_param - com_param\n",
    "    \n",
    "    result = \"\"\n",
    "    if (cal == 1) or (cal == -2):\n",
    "        result = \"\\x1b[1;35m{}\\x1b[1;m\".format(\"You Win!!^^\")\n",
    "    elif (cal == -1) or (cal == 2) :\n",
    "        result = \"\\x1b[1;31m{}\\x1b[1;m\".format(\"You Loser ㅠㅠ\")\n",
    "    else:\n",
    "        result = \"\\x1b[1;39m{}\\x1b[1;m \\n\".format(\"Draw~, Try again\")\n",
    "    return result\n",
    "main()"
   ]
  }
 ],
 "metadata": {
  "kernelspec": {
   "display_name": "Python 3",
   "language": "python",
   "name": "python3"
  },
  "language_info": {
   "codemirror_mode": {
    "name": "ipython",
    "version": 3
   },
   "file_extension": ".py",
   "mimetype": "text/x-python",
   "name": "python",
   "nbconvert_exporter": "python",
   "pygments_lexer": "ipython3",
   "version": "3.6.4"
  }
 },
 "nbformat": 4,
 "nbformat_minor": 2
}
